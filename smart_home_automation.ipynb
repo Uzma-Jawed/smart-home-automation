{
 "cells": [
  {
   "cell_type": "markdown",
   "metadata": {},
   "source": [
    "@Uzma_Jawed"
   ]
  },
  {
   "cell_type": "markdown",
   "metadata": {},
   "source": [
    "___\n",
    "Smart Home Automation System\n",
    "___\n",
    "\n",
    "�� Scenario:\n",
    "You are developing a Smart Home Automation System that allows users to control and\n",
    "monitor various home appliances using Python data structures like Lists, Tuples,\n",
    "Dictionaries, Sets, and Functions.\n",
    "Your task is to implement different functionalities step by step.\n",
    "1. Device Management (Lists & Tuples)\n",
    "Task 1.1: Create and Manage a List of Smart Devices\n",
    "\n",
    "● Create a list of at least 5 smart home devices (e.g., \"Lights\", \"Fan\", \"AC\", \"Door\n",
    "Lock\", \"Thermostat\").\n",
    "\n",
    "● Allow the user to:\n",
    "\n",
    "○ Add a new device.\n",
    "\n",
    "○ Remove a device.\n",
    "\n",
    "○ Sort devices alphabetically."
   ]
  },
  {
   "cell_type": "code",
   "execution_count": 33,
   "metadata": {},
   "outputs": [
    {
     "name": "stdout",
     "output_type": "stream",
     "text": [
      "Devices: ['Lights', 'Fan', 'AC', 'Door Lock', 'Thermostat']\n",
      "After appending a new device: ['Lights', 'Fan', 'AC', 'Door Lock', 'Thermostat', 'Security Camera']\n",
      "Fan removed from the device list.\n",
      "Updated Devices: ['Lights', 'AC', 'Door Lock', 'Thermostat', 'Security Camera']\n",
      "Sorted Devices: ['AC', 'Door Lock', 'Lights', 'Security Camera', 'Thermostat']\n"
     ]
    }
   ],
   "source": [
    "# 1.1 Device Management using List\n",
    "\n",
    "devices = [\"Lights\", \"Fan\", \"AC\", \"Door Lock\", \"Thermostat\"]\n",
    "print(f\"Devices: {devices}\")\n",
    "\n",
    "# Add a new device\n",
    "devices.append(\"Security Camera\")\n",
    "print(f\"After appending a new device: {devices}\")\n",
    "\n",
    "# Remove a device (only if it exists)\n",
    "if \"Fan\" in devices:\n",
    "    devices.remove(\"Fan\")\n",
    "    print(\"Fan removed from the device list.\")\n",
    "else:\n",
    "    print(\"Fan not found in the device list.\")\n",
    "\n",
    "print(f\"Updated Devices: {devices}\")\n",
    "\n",
    "# Sort devices alphabetically\n",
    "devices.sort()\n",
    "print(f\"Sorted Devices: {devices}\")"
   ]
  },
  {
   "cell_type": "markdown",
   "metadata": {},
   "source": [
    "___\n",
    "Task 1.2: Store Device Settings Using Tuples\n",
    "___\n",
    "\n",
    "● Define a tuple for each device, containing:\n",
    "\n",
    "○ Device name\n",
    "\n",
    "○ Device status (ON/OFF)\n",
    "\n",
    "○ Device power consumption (in Watts)\n",
    "\n",
    "● Allow users to view all devices with their status and power consumption."
   ]
  },
  {
   "cell_type": "code",
   "execution_count": 34,
   "metadata": {},
   "outputs": [
    {
     "name": "stdout",
     "output_type": "stream",
     "text": [
      "Device Settings:\n",
      "Lights: Status = ON, Power = 60W\n",
      "Fan: Status = OFF, Power = 40W\n",
      "AC: Status = ON, Power = 1500W\n",
      "Door Lock: Status = ON, Power = 5W\n",
      "Thermostat: Status = OFF, Power = 20W\n"
     ]
    }
   ],
   "source": [
    "# 1.2 Store Device Settings Using Tuples\n",
    "\n",
    "status = [\n",
    "    ('Lights', 'ON', 60),\n",
    "    ('Fan', 'OFF', 40),\n",
    "    ('AC', 'ON', 1500),\n",
    "    ('Door Lock', 'ON', 5),\n",
    "    ('Thermostat', 'OFF', 20),\n",
    "]\n",
    "\n",
    "print(\"Device Settings:\")\n",
    "for device in status:\n",
    "    name, power_status, consumption = device\n",
    "    print(f\"{name}: Status = {power_status}, Power = {consumption}W\")\n"
   ]
  },
  {
   "cell_type": "markdown",
   "metadata": {},
   "source": [
    "___\n",
    "2. Energy Consumption Tracker (Dictionaries & Sets)\n",
    "___\n",
    "Task 2.1: Store Device Energy Usage in a Dictionary\n",
    "\n",
    "● Create a dictionary where:\n",
    "\n",
    "○ Keys: Smart home devices (e.g., \"Lights\", \"AC\", \"Fan\").\n",
    "\n",
    "○ Values: Energy usage (in kWh).\n",
    "\n",
    "● Allow users to:\n",
    "\n",
    "○ Add new energy usage data.\n",
    "\n",
    "○ Update existing usage.\n",
    "\n",
    "○ Remove a device's energy usage.\n",
    "\n",
    "○ Display total energy consumption"
   ]
  },
  {
   "cell_type": "code",
   "execution_count": 35,
   "metadata": {},
   "outputs": [
    {
     "name": "stdout",
     "output_type": "stream",
     "text": [
      "Initial Energy Usage: {'Lights': 5, 'AC': 120, 'Fan': 30}\n",
      "After Adding Thermostat: {'Lights': 5, 'AC': 120, 'Fan': 30, 'Thermostat': 20}\n",
      "After Updating AC Usage: {'Lights': 5, 'AC': 110, 'Fan': 30, 'Thermostat': 20}\n",
      "After Removing Fan: {'Lights': 5, 'AC': 110, 'Thermostat': 20}\n",
      "Total Energy Consumption: 135 kWh\n"
     ]
    }
   ],
   "source": [
    "# 2.1 Device Energy Usage using Dictionary\n",
    "\n",
    "# Initial energy usage\n",
    "energy_usage = {\"Lights\": 5, \"AC\": 120, \"Fan\": 30}\n",
    "print(f\"Initial Energy Usage: {energy_usage}\")\n",
    "\n",
    "# Add new device\n",
    "energy_usage[\"Thermostat\"] = 20\n",
    "print(f\"After Adding Thermostat: {energy_usage}\")\n",
    "\n",
    "# Update existing device's usage\n",
    "energy_usage[\"AC\"] = 110\n",
    "print(f\"After Updating AC Usage: {energy_usage}\")\n",
    "\n",
    "# Remove a device\n",
    "del energy_usage[\"Fan\"]\n",
    "print(f\"After Removing Fan: {energy_usage}\")\n",
    "\n",
    "# Calculate total energy consumption\n",
    "total_energy = sum(energy_usage.values())\n",
    "print(f\"Total Energy Consumption: {total_energy} kWh\")"
   ]
  },
  {
   "cell_type": "markdown",
   "metadata": {},
   "source": [
    "___\n",
    "Task 2.2: Identify Unique Power-Saving Modes Using Sets\n",
    "___\n",
    "● Create a set to store unique power-saving modes (e.g., \"Eco Mode\", \"Night Mode\",\n",
    "\"Away Mode\").\n",
    "\n",
    "● Allow users to:\n",
    "\n",
    "○ Add a new mode.\n",
    "\n",
    "○ Check if a mode is available.\n",
    "\n",
    "○ View all power-saving modes."
   ]
  },
  {
   "cell_type": "code",
   "execution_count": 36,
   "metadata": {},
   "outputs": [
    {
     "name": "stdout",
     "output_type": "stream",
     "text": [
      "Power-Saving Modes: {'Night Mode', 'Eco Mode', 'Away Mode'}\n",
      "New Mode Added: 'Sleep Mode'\n",
      "Updated Modes: {'Sleep Mode', 'Night Mode', 'Eco Mode', 'Away Mode'}\n",
      "Is 'Eco Mode' available? True\n",
      "View all power-saving modes:\n",
      "- Sleep Mode\n",
      "- Night Mode\n",
      "- Eco Mode\n",
      "- Away Mode\n"
     ]
    }
   ],
   "source": [
    "# 2.2 Unique Power-Saving Modes Using Sets\n",
    "\n",
    "# Initial power-saving modes\n",
    "power_modes = {\"Eco Mode\", \"Night Mode\", \"Away Mode\"}\n",
    "print(f\"Power-Saving Modes: {power_modes}\")\n",
    "\n",
    "# Add a new mode\n",
    "new_mode = \"Sleep Mode\"\n",
    "power_modes.add(new_mode)\n",
    "print(f\"New Mode Added: '{new_mode}'\")\n",
    "\n",
    "# Updated set after adding new mode\n",
    "print(f\"Updated Modes: {power_modes}\")\n",
    "\n",
    "# Check if a mode exists\n",
    "check_mode = \"Eco Mode\"\n",
    "print(f\"Is '{check_mode}' available?\", check_mode in power_modes)\n",
    "\n",
    "# View all power-saving modes (one per line)\n",
    "print(\"View all power-saving modes:\")\n",
    "for mode in power_modes:\n",
    "    print(\"-\", mode)"
   ]
  },
  {
   "cell_type": "markdown",
   "metadata": {},
   "source": [
    "___\n",
    "3. Functions For Smart Home Automation Tasks\n",
    "___\n",
    "3.1: Create a Function to Calculate Monthly Energy Cost\n",
    "\n",
    "● Write a function calculate_energy_cost(energy_usage, rate_per_kwh)\n",
    "that:\n",
    "\n",
    "○ Takes total energy usage (kWh) and electricity rate per kWh as input.\n",
    "\n",
    "○ Calculates total monthly cost."
   ]
  },
  {
   "cell_type": "code",
   "execution_count": null,
   "metadata": {},
   "outputs": [
    {
     "name": "stdout",
     "output_type": "stream",
     "text": [
      "Total Monthly Energy Cost: $19.80\n"
     ]
    }
   ],
   "source": [
    "# 3.1 Calculate monthly energy cost\n",
    "def calculate_energy_cost(energy_usage, rate_per_kwh):\n",
    "    total_cost = energy_usage * rate_per_kwh\n",
    "    return f\"Total Monthly Energy Cost: ${total_cost:.2f}\"\n",
    "\n",
    "# Take input\n",
    "energy_usage, rate_per_kwh = map(float, input(\"Calculate_Energy_Cost: \").split())\n",
    "\n",
    "# Call the function and print the result\n",
    "print(calculate_energy_cost(energy_usage, rate_per_kwh))"
   ]
  },
  {
   "cell_type": "markdown",
   "metadata": {},
   "source": [
    "___\n",
    "Task 3.2: Create a Function to Find Common Devices in Two Homes\n",
    "___\n",
    "● Write a function that:\n",
    "\n",
    "○ Takes two lists of smart devices from two different homes.\n",
    "\n",
    "○ Returns a set of common devices."
   ]
  },
  {
   "cell_type": "code",
   "execution_count": null,
   "metadata": {},
   "outputs": [
    {
     "name": "stdout",
     "output_type": "stream",
     "text": [
      "Common Devices: {\"'Lights'\"}\n"
     ]
    }
   ],
   "source": [
    "# Find common devices in two homes\n",
    "def find_common_devices(home1, home2): \n",
    "    return set(home1).intersection(set(home2))\n",
    "\n",
    "# Take input from user\n",
    "home1_input = input(\"Enter devices for Home 1 (comma-separated): \")\n",
    "home2_input = input(\"Enter devices for Home 2 (comma-separated): \")\n",
    "\n",
    "# Convert input strings to lists\n",
    "home1_devices = [device.strip() for device in home1_input.split(\",\")]\n",
    "home2_devices = [device.strip() for device in home2_input.split(\",\")]\n",
    "\n",
    "# Find and display common devices as a set\n",
    "common = find_common_devices(home1_devices, home2_devices)\n",
    "print(f\"Common Devices: {common}\")"
   ]
  },
  {
   "cell_type": "markdown",
   "metadata": {},
   "source": [
    "___\n",
    "4. Automation Features (Advanced Functions)\n",
    "___\n",
    "Task 4.1: Create an Automation Rule Using Functions\n",
    "\n",
    "● Write a function set_automation_rule(device, time, action) that:\n",
    "\n",
    "○ Takes a device name, time, and an action (ON/OFF).\n",
    "\n",
    "○ Returns a message indicating the automation rule."
   ]
  },
  {
   "cell_type": "code",
   "execution_count": 2,
   "metadata": {},
   "outputs": [
    {
     "name": "stdout",
     "output_type": "stream",
     "text": [
      "Automation Rule: Lights will be turned OFF at 10:00 PM.\n"
     ]
    }
   ],
   "source": [
    "# 4.1: Automation Rule Function\n",
    "def set_automation_rule(device, time, action):\n",
    "    return f\"Automation Rule: {device} will be turned {action.upper()} at {time}.\"\n",
    "\n",
    "print(set_automation_rule(\"Lights\", \"10:00 PM\", \"off\"))"
   ]
  },
  {
   "cell_type": "markdown",
   "metadata": {},
   "source": [
    "___\n",
    "Task 4.2: Function to Optimize Power Consumption\n",
    "___\n",
    "● Write a function that:\n",
    "\n",
    "○ Takes a list of devices with their power usage.\n",
    "\n",
    "○ Turns off devices consuming high power (> 1000W).\n",
    "\n",
    "○ Returns an updated list of active devices."
   ]
  },
  {
   "cell_type": "code",
   "execution_count": null,
   "metadata": {},
   "outputs": [
    {
     "name": "stdout",
     "output_type": "stream",
     "text": [
      "Optimized Devices (Active): ['Lights', 'Fan']\n"
     ]
    }
   ],
   "source": [
    "# 4.2 Optimize power consumption\n",
    "def optimize_power(devices): \n",
    "    return [device[0] for device in devices if device[1] <= 1000]\n",
    "\n",
    "# User input\n",
    "user_input = input(\"Enter devices with power usage: \")\n",
    "\n",
    "# Convert input to list of tuples\n",
    "device_power_list = []\n",
    "for item in user_input.split(\",\"):\n",
    "    name, power = item.strip().split()\n",
    "    device_power_list.append((name, int(power)))\n",
    "\n",
    "# Call function and display result\n",
    "print(f\"Optimized Devices (Active): {optimize_power(device_power_list)}\")"
   ]
  },
  {
   "cell_type": "markdown",
   "metadata": {},
   "source": [
    "___\n",
    "Bonus Challenge (Optional)\n",
    "___\n",
    "�� Smart Home AI Assistant (Using *args & **kwargs)\n",
    "\n",
    "● Create a function smart_home_assistant(name, *args, **kwargs) where:\n",
    "\n",
    "○ name: Homeowner's Name.\n",
    "\n",
    "○ *args: Devices that need status updates.\n",
    "\n",
    "○ **kwargs: Automation commands (e.g., lights=\"ON\", fan=\"OFF\").\n",
    "\n",
    "● The function should:\n",
    "\n",
    "○ Print the devices being checked.\n",
    "\n",
    "○ Execute automation commands and return updated status."
   ]
  },
  {
   "cell_type": "code",
   "execution_count": null,
   "metadata": {},
   "outputs": [
    {
     "name": "stdout",
     "output_type": "stream",
     "text": [
      "Welcome, Uzma!\n",
      "Checking status for: Lights, AC\n",
      "Lights set to OFF\n",
      "Ac set to ON\n"
     ]
    }
   ],
   "source": [
    "# smart home AI assistant\n",
    "def smart_home_assistant(name, *args, **kwargs): \n",
    "    print(f\"Welcome, {name}!\")\n",
    "    print(\"Checking status for:\", \", \".join(args))\n",
    "    for device, status in kwargs.items():\n",
    "        print(f\"{device.capitalize()} set to {status.upper()}\")\n",
    "\n",
    "# Take input like function call\n",
    "name = input(\"Enter homeowner's name: \")\n",
    "devices_input = input(\"Enter devices to check: \")\n",
    "commands_input = input(\"Enter automation commands: \")\n",
    "\n",
    "# Process *args\n",
    "devices = tuple(device.strip() for device in devices_input.split(\",\"))\n",
    "\n",
    "# Process **kwargs\n",
    "commands = {}\n",
    "for pair in commands_input.split(\",\"):\n",
    "    key, value = pair.strip().split(\"=\")\n",
    "    commands[key.strip()] = value.strip()\n",
    "\n",
    "# Call the function\n",
    "smart_home_assistant(name, *devices, **commands)"
   ]
  }
 ],
 "metadata": {
  "kernelspec": {
   "display_name": "awfera",
   "language": "python",
   "name": "python3"
  },
  "language_info": {
   "codemirror_mode": {
    "name": "ipython",
    "version": 3
   },
   "file_extension": ".py",
   "mimetype": "text/x-python",
   "name": "python",
   "nbconvert_exporter": "python",
   "pygments_lexer": "ipython3",
   "version": "3.12.9"
  }
 },
 "nbformat": 4,
 "nbformat_minor": 2
}
